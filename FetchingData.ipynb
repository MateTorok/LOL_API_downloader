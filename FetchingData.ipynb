{
 "cells": [
  {
   "cell_type": "markdown",
   "metadata": {},
   "source": [
    "# <center> Fetching data from Riot API server </center>"
   ]
  },
  {
   "cell_type": "markdown",
   "metadata": {},
   "source": [
    "### Pulls recent match details from players listed in Tier/Division ranking\n",
    "#### Read more about the LOL API [here](https://developer.riotgames.com/docs/portal)!\n",
    "\n",
    "#### The notebook goes through the following steps:"
   ]
  },
  {
   "cell_type": "markdown",
   "metadata": {},
   "source": [
    "1. Pulling summoner names from leagues and saving table to data folder\n",
    "2. Pulling accountid for summoners names to be able to get match details\n",
    "3. Pulling match history for each player\n",
    "4. Pulling game details for each matchID"
   ]
  },
  {
   "cell_type": "code",
   "execution_count": 1,
   "metadata": {},
   "outputs": [],
   "source": [
    "from JinxData import LOL_API_Connection as LOL\n",
    "import pandas as pd\n",
    "from time import sleep\n",
    "from time import time\n",
    "from datetime import datetime\n",
    "from ratelimit import limits, sleep_and_retry\n",
    "import json\n",
    "import os"
   ]
  },
  {
   "cell_type": "code",
   "execution_count": 2,
   "metadata": {},
   "outputs": [],
   "source": [
    "ROOT_DIR = '.'\n",
    "DATA_DIR = 'data'"
   ]
  },
  {
   "cell_type": "markdown",
   "metadata": {},
   "source": [
    "### Insert LOL API key and Region here:"
   ]
  },
  {
   "cell_type": "code",
   "execution_count": 3,
   "metadata": {},
   "outputs": [],
   "source": [
    "API_key = 'RGAPI-e502b975-1fbe-4499-9b60-c67fb91a9932'\n",
    "region = 'eun1'"
   ]
  },
  {
   "cell_type": "code",
   "execution_count": 4,
   "metadata": {},
   "outputs": [],
   "source": [
    "# Setting up connection\n",
    "api = LOL(API_key, region)"
   ]
  },
  {
   "cell_type": "markdown",
   "metadata": {},
   "source": [
    "**The rate limit for a personal keys is limited:**\n",
    "- 20 requests every 1 second\n",
    "- 100 requests every 2 minutes\n",
    "\n",
    "**Below you can adjust the number of *calls* within a specific *period* (*s*):**"
   ]
  },
  {
   "cell_type": "code",
   "execution_count": 5,
   "metadata": {},
   "outputs": [],
   "source": [
    "calls = 100\n",
    "period = 123\n",
    "@sleep_and_retry\n",
    "@limits(calls=calls, period=period)\n",
    "def get_response(conn_type, value_list, i, **filters):\n",
    "    return conn_type(value_list[i], **filters)\n",
    "\n",
    "def get_records(conn_type, value_list, verbose = 100, sleeptime = 1, **filters):\n",
    "    '''Pull records from the list with a specific data collector.\n",
    "    Returns a list with the requested records as dicts. Accepts filters as **kwargs'''\n",
    "    newdict = {} \n",
    "    errors = []\n",
    "    i = 0\n",
    "    while i < len(value_list):\n",
    "\n",
    "        newdict[value_list[i]] = get_response(conn_type, value_list, i, **filters)\n",
    "                \n",
    "        if 'status' in newdict[value_list[i]]:                                              # error handling\n",
    "            status = newdict[value_list[i]]['status']\n",
    "            print('{} Error: {}'.format(datetime.now().strftime('%H:%M:%S'), str(status) ) )\n",
    "            errors.append([time(), status['status_code']] )\n",
    "            maxerror = 25\n",
    "            del newdict[value_list[i]]\n",
    "            if len(errors) >= maxerror and errors[-1][0] - errors[-maxerror][0] < 2*60:     # break loop if too many errors within an interval\n",
    "                print(errors)\n",
    "                print('Session interupted due to excessive errors')\n",
    "                break\n",
    "            elif errors[-1][1] == 404:\n",
    "                i +=1\n",
    "            i -= 1\n",
    "            sleep(2)\n",
    "        else:\n",
    "            sleep(sleeptime)\n",
    "            #counter = len(value_list) - i -1\n",
    "            if verbose != 0 and i % verbose == 0:\n",
    "                print('{0}: Loaded: {1} {2:.0f}% | Time remaining: {3:0.1f} min'.format(datetime.now().strftime('%H:%M:%S'), i, int((i+1)/len(value_list)*100), (len(value_list) - i -1)*1.2/60 ) )\n",
    "        i += 1\n",
    "    print('---FINISHED---')\n",
    "    return newdict"
   ]
  },
  {
   "cell_type": "markdown",
   "metadata": {},
   "source": [
    "--------------------------\n",
    "### 1. Pulling summoner names from leagues and saving table to data folder"
   ]
  },
  {
   "cell_type": "code",
   "execution_count": 6,
   "metadata": {},
   "outputs": [],
   "source": [
    "divisions = ['I','II','III','IV']\n",
    "tiers = ['DIAMOND', 'PLATINUM', 'GOLD', 'SILVER', 'BRONZE', 'IRON']"
   ]
  },
  {
   "cell_type": "markdown",
   "metadata": {},
   "source": [
    "Number of request: 4 (divisions) x 6 (tiers) = 24"
   ]
  },
  {
   "cell_type": "code",
   "execution_count": 7,
   "metadata": {},
   "outputs": [],
   "source": [
    "league_names = {}\n",
    "for tier in tiers:\n",
    "    for div in divisions:\n",
    "        league_names[tier + '-' + div] = api.GetSummonerNames(division = div, tier = tier)"
   ]
  },
  {
   "cell_type": "code",
   "execution_count": 8,
   "metadata": {},
   "outputs": [],
   "source": [
    "summoner_list = pd.DataFrame()\n",
    "for key in league_names:\n",
    "    summoner_list = summoner_list.append( pd.DataFrame( league_names[key]), ignore_index= True )"
   ]
  },
  {
   "cell_type": "code",
   "execution_count": 9,
   "metadata": {
    "scrolled": true
   },
   "outputs": [
    {
     "data": {
      "text/html": [
       "<div>\n",
       "<style scoped>\n",
       "    .dataframe tbody tr th:only-of-type {\n",
       "        vertical-align: middle;\n",
       "    }\n",
       "\n",
       "    .dataframe tbody tr th {\n",
       "        vertical-align: top;\n",
       "    }\n",
       "\n",
       "    .dataframe thead th {\n",
       "        text-align: right;\n",
       "    }\n",
       "</style>\n",
       "<table border=\"1\" class=\"dataframe\">\n",
       "  <thead>\n",
       "    <tr style=\"text-align: right;\">\n",
       "      <th></th>\n",
       "      <th>leagueId</th>\n",
       "      <th>queueType</th>\n",
       "      <th>tier</th>\n",
       "      <th>rank</th>\n",
       "      <th>summonerId</th>\n",
       "      <th>summonerName</th>\n",
       "      <th>leaguePoints</th>\n",
       "      <th>wins</th>\n",
       "      <th>losses</th>\n",
       "      <th>veteran</th>\n",
       "      <th>inactive</th>\n",
       "      <th>freshBlood</th>\n",
       "      <th>hotStreak</th>\n",
       "      <th>miniSeries</th>\n",
       "    </tr>\n",
       "  </thead>\n",
       "  <tbody>\n",
       "    <tr>\n",
       "      <th>0</th>\n",
       "      <td>9072a5a9-717a-49d9-836f-60f491db10dc</td>\n",
       "      <td>RANKED_SOLO_5x5</td>\n",
       "      <td>DIAMOND</td>\n",
       "      <td>I</td>\n",
       "      <td>qXPT97QKWFI1jvEkENZcPzeb-jBNWIETJISe8opfPW1k</td>\n",
       "      <td>Just Milánek</td>\n",
       "      <td>67</td>\n",
       "      <td>23</td>\n",
       "      <td>22</td>\n",
       "      <td>False</td>\n",
       "      <td>False</td>\n",
       "      <td>False</td>\n",
       "      <td>False</td>\n",
       "      <td>NaN</td>\n",
       "    </tr>\n",
       "    <tr>\n",
       "      <th>1</th>\n",
       "      <td>e1d88385-83f4-4293-82db-c3b40845f07a</td>\n",
       "      <td>RANKED_SOLO_5x5</td>\n",
       "      <td>DIAMOND</td>\n",
       "      <td>I</td>\n",
       "      <td>hpvIXwvNeJLyyajKKr4BrG4dddpBUqpy6C4kMcpd0KtSwVA</td>\n",
       "      <td>Vamkiller</td>\n",
       "      <td>26</td>\n",
       "      <td>22</td>\n",
       "      <td>18</td>\n",
       "      <td>False</td>\n",
       "      <td>False</td>\n",
       "      <td>False</td>\n",
       "      <td>False</td>\n",
       "      <td>NaN</td>\n",
       "    </tr>\n",
       "    <tr>\n",
       "      <th>2</th>\n",
       "      <td>5d15e213-8623-42b9-a0ac-54311251fef7</td>\n",
       "      <td>RANKED_SOLO_5x5</td>\n",
       "      <td>DIAMOND</td>\n",
       "      <td>I</td>\n",
       "      <td>qPdFedw3wxod2C85g58Y6wxJ61hJRCrgH1VfQzzF7vEw73I</td>\n",
       "      <td>Anarxia</td>\n",
       "      <td>0</td>\n",
       "      <td>155</td>\n",
       "      <td>141</td>\n",
       "      <td>False</td>\n",
       "      <td>False</td>\n",
       "      <td>False</td>\n",
       "      <td>False</td>\n",
       "      <td>NaN</td>\n",
       "    </tr>\n",
       "  </tbody>\n",
       "</table>\n",
       "</div>"
      ],
      "text/plain": [
       "                               leagueId        queueType     tier rank  \\\n",
       "0  9072a5a9-717a-49d9-836f-60f491db10dc  RANKED_SOLO_5x5  DIAMOND    I   \n",
       "1  e1d88385-83f4-4293-82db-c3b40845f07a  RANKED_SOLO_5x5  DIAMOND    I   \n",
       "2  5d15e213-8623-42b9-a0ac-54311251fef7  RANKED_SOLO_5x5  DIAMOND    I   \n",
       "\n",
       "                                        summonerId  summonerName  \\\n",
       "0     qXPT97QKWFI1jvEkENZcPzeb-jBNWIETJISe8opfPW1k  Just Milánek   \n",
       "1  hpvIXwvNeJLyyajKKr4BrG4dddpBUqpy6C4kMcpd0KtSwVA     Vamkiller   \n",
       "2  qPdFedw3wxod2C85g58Y6wxJ61hJRCrgH1VfQzzF7vEw73I       Anarxia   \n",
       "\n",
       "   leaguePoints  wins  losses  veteran  inactive  freshBlood  hotStreak  \\\n",
       "0            67    23      22    False     False       False      False   \n",
       "1            26    22      18    False     False       False      False   \n",
       "2             0   155     141    False     False       False      False   \n",
       "\n",
       "  miniSeries  \n",
       "0        NaN  \n",
       "1        NaN  \n",
       "2        NaN  "
      ]
     },
     "execution_count": 9,
     "metadata": {},
     "output_type": "execute_result"
    }
   ],
   "source": [
    "summoner_list.head(3)"
   ]
  },
  {
   "cell_type": "code",
   "execution_count": 10,
   "metadata": {},
   "outputs": [],
   "source": [
    "#Saving to csv\n",
    "summoner_list.to_csv(os.path.join(ROOT_DIR, DATA_DIR, 'summoner_list.csv'))"
   ]
  },
  {
   "cell_type": "markdown",
   "metadata": {},
   "source": [
    "-----------------------\n",
    "## 2. Pulling accountid for summoners names to be able to get match details"
   ]
  },
  {
   "cell_type": "code",
   "execution_count": 11,
   "metadata": {},
   "outputs": [],
   "source": [
    "#Loading in saved csv file\n",
    "summoner_list = pd.read_csv(os.path.join(ROOT_DIR, DATA_DIR, 'summoner_list.csv'))\n",
    "summonerName = list(summoner_list.summonerName)"
   ]
  },
  {
   "cell_type": "markdown",
   "metadata": {},
   "source": [
    "#### Requesting summonerIds name by name. This may take up to 2 hours beacuase of the rate limitations."
   ]
  },
  {
   "cell_type": "code",
   "execution_count": 12,
   "metadata": {},
   "outputs": [
    {
     "name": "stdout",
     "output_type": "stream",
     "text": [
      "14:31:52: Loaded: 0 10% | Time remaining: 0.2 min\n",
      "14:31:53: Loaded: 1 20% | Time remaining: 0.2 min\n",
      "14:31:55: Loaded: 2 30% | Time remaining: 0.1 min\n",
      "14:31:56: Loaded: 3 40% | Time remaining: 0.1 min\n",
      "14:31:57: Loaded: 4 50% | Time remaining: 0.1 min\n",
      "14:31:59: Loaded: 5 60% | Time remaining: 0.1 min\n",
      "14:32:00: Loaded: 6 70% | Time remaining: 0.1 min\n",
      "14:32:01: Loaded: 7 80% | Time remaining: 0.0 min\n",
      "14:32:03: Loaded: 8 90% | Time remaining: 0.0 min\n",
      "14:32:04: Loaded: 9 100% | Time remaining: 0.0 min\n",
      "---FINISHED---\n"
     ]
    }
   ],
   "source": [
    "sumIDs = get_records(api.GetSummonerID, summonerName[0:10], verbose = 1)"
   ]
  },
  {
   "cell_type": "code",
   "execution_count": 13,
   "metadata": {},
   "outputs": [
    {
     "data": {
      "text/html": [
       "<div>\n",
       "<style scoped>\n",
       "    .dataframe tbody tr th:only-of-type {\n",
       "        vertical-align: middle;\n",
       "    }\n",
       "\n",
       "    .dataframe tbody tr th {\n",
       "        vertical-align: top;\n",
       "    }\n",
       "\n",
       "    .dataframe thead th {\n",
       "        text-align: right;\n",
       "    }\n",
       "</style>\n",
       "<table border=\"1\" class=\"dataframe\">\n",
       "  <thead>\n",
       "    <tr style=\"text-align: right;\">\n",
       "      <th></th>\n",
       "      <th>id</th>\n",
       "      <th>accountId</th>\n",
       "      <th>puuid</th>\n",
       "      <th>name</th>\n",
       "      <th>profileIconId</th>\n",
       "      <th>revisionDate</th>\n",
       "      <th>summonerLevel</th>\n",
       "    </tr>\n",
       "  </thead>\n",
       "  <tbody>\n",
       "    <tr>\n",
       "      <th>0</th>\n",
       "      <td>qXPT97QKWFI1jvEkENZcPzeb-jBNWIETJISe8opfPW1k</td>\n",
       "      <td>sP1WpJtn8ddDSp6eDbVcYQXOVuqSKGt1bOf0aRGZJHU</td>\n",
       "      <td>r-fCz1Lws921xxhK6TdrpnvdhASTJ93YqVV41rQaZ1XF7Q...</td>\n",
       "      <td>Just Milánek</td>\n",
       "      <td>524</td>\n",
       "      <td>1583102552000</td>\n",
       "      <td>192</td>\n",
       "    </tr>\n",
       "    <tr>\n",
       "      <th>1</th>\n",
       "      <td>hpvIXwvNeJLyyajKKr4BrG4dddpBUqpy6C4kMcpd0KtSwVA</td>\n",
       "      <td>gVDSgGNiPyajVqzsqGbRCQZe8xkYgd0vCB6nPzgPRGYrdA</td>\n",
       "      <td>Nv-SyN3E4Fa1TB03McOQkz92HgKVZJPCQqkkA4Uz1RgyhO...</td>\n",
       "      <td>Vamkiller</td>\n",
       "      <td>519</td>\n",
       "      <td>1583283763000</td>\n",
       "      <td>193</td>\n",
       "    </tr>\n",
       "    <tr>\n",
       "      <th>2</th>\n",
       "      <td>qPdFedw3wxod2C85g58Y6wxJ61hJRCrgH1VfQzzF7vEw73I</td>\n",
       "      <td>8mLIYnaVybot7GScJ0US1DcK0s4swTrnQXWMkAaPEFJ2fA</td>\n",
       "      <td>0t01JIaZ-x4jZmJYatDXSxnjS0-Nrxpnso8-WVNW8iRLSK...</td>\n",
       "      <td>Anarxia</td>\n",
       "      <td>522</td>\n",
       "      <td>1583249933000</td>\n",
       "      <td>126</td>\n",
       "    </tr>\n",
       "    <tr>\n",
       "      <th>3</th>\n",
       "      <td>NyF7brLZQUxCqBte3VQhEWPA0LshKJDZ8tgYkLo_paPO3Cw</td>\n",
       "      <td>42HsbZLgKUcnvQYPqEmj7yWfGk6Ccic2PNYvbjrKX3os9w</td>\n",
       "      <td>Rqa-RES4KBre_b3JGqxQ7ICSqdIcGuQA8d-WmOa8QZc_js...</td>\n",
       "      <td>PoZeRaKoC LoStRe</td>\n",
       "      <td>14</td>\n",
       "      <td>1583097414000</td>\n",
       "      <td>98</td>\n",
       "    </tr>\n",
       "    <tr>\n",
       "      <th>4</th>\n",
       "      <td>XLnTOSYk15rImfcdBgmF68tw2-JkuUOAVrKZBPY02PTBKRg</td>\n",
       "      <td>y5BE9bBJURje7QGpxx12GOp9_7PWGg6Wtw1zoWpzDOMG4A</td>\n",
       "      <td>veW6sstFZhOQgCsPEhA3H_W93Ju-1bCLEq-WHVJN3jDjQQ...</td>\n",
       "      <td>Prwktolog0s</td>\n",
       "      <td>585</td>\n",
       "      <td>1583285564000</td>\n",
       "      <td>105</td>\n",
       "    </tr>\n",
       "  </tbody>\n",
       "</table>\n",
       "</div>"
      ],
      "text/plain": [
       "                                                id  \\\n",
       "0     qXPT97QKWFI1jvEkENZcPzeb-jBNWIETJISe8opfPW1k   \n",
       "1  hpvIXwvNeJLyyajKKr4BrG4dddpBUqpy6C4kMcpd0KtSwVA   \n",
       "2  qPdFedw3wxod2C85g58Y6wxJ61hJRCrgH1VfQzzF7vEw73I   \n",
       "3  NyF7brLZQUxCqBte3VQhEWPA0LshKJDZ8tgYkLo_paPO3Cw   \n",
       "4  XLnTOSYk15rImfcdBgmF68tw2-JkuUOAVrKZBPY02PTBKRg   \n",
       "\n",
       "                                        accountId  \\\n",
       "0     sP1WpJtn8ddDSp6eDbVcYQXOVuqSKGt1bOf0aRGZJHU   \n",
       "1  gVDSgGNiPyajVqzsqGbRCQZe8xkYgd0vCB6nPzgPRGYrdA   \n",
       "2  8mLIYnaVybot7GScJ0US1DcK0s4swTrnQXWMkAaPEFJ2fA   \n",
       "3  42HsbZLgKUcnvQYPqEmj7yWfGk6Ccic2PNYvbjrKX3os9w   \n",
       "4  y5BE9bBJURje7QGpxx12GOp9_7PWGg6Wtw1zoWpzDOMG4A   \n",
       "\n",
       "                                               puuid              name  \\\n",
       "0  r-fCz1Lws921xxhK6TdrpnvdhASTJ93YqVV41rQaZ1XF7Q...      Just Milánek   \n",
       "1  Nv-SyN3E4Fa1TB03McOQkz92HgKVZJPCQqkkA4Uz1RgyhO...         Vamkiller   \n",
       "2  0t01JIaZ-x4jZmJYatDXSxnjS0-Nrxpnso8-WVNW8iRLSK...           Anarxia   \n",
       "3  Rqa-RES4KBre_b3JGqxQ7ICSqdIcGuQA8d-WmOa8QZc_js...  PoZeRaKoC LoStRe   \n",
       "4  veW6sstFZhOQgCsPEhA3H_W93Ju-1bCLEq-WHVJN3jDjQQ...       Prwktolog0s   \n",
       "\n",
       "   profileIconId   revisionDate  summonerLevel  \n",
       "0            524  1583102552000            192  \n",
       "1            519  1583283763000            193  \n",
       "2            522  1583249933000            126  \n",
       "3             14  1583097414000             98  \n",
       "4            585  1583285564000            105  "
      ]
     },
     "execution_count": 13,
     "metadata": {},
     "output_type": "execute_result"
    }
   ],
   "source": [
    "id_list = pd.DataFrame( [sumIDs[key] for key in sumIDs.keys()] )\n",
    "id_list.head()"
   ]
  },
  {
   "cell_type": "code",
   "execution_count": 14,
   "metadata": {},
   "outputs": [],
   "source": [
    "#Saving to csv\n",
    "id_list.to_csv(os.path.join(ROOT_DIR, DATA_DIR, 'summoner_id_details.csv'))"
   ]
  },
  {
   "cell_type": "markdown",
   "metadata": {},
   "source": [
    "----------------------\n",
    "## 3. Pulling match history for each player"
   ]
  },
  {
   "cell_type": "code",
   "execution_count": 15,
   "metadata": {},
   "outputs": [],
   "source": [
    "#Loading in saved csv file\n",
    "id_list = pd.read_csv(os.path.join(ROOT_DIR, DATA_DIR, 'summoner_id_details.csv'))\n",
    "accountId = list(id_list['accountId'])"
   ]
  },
  {
   "cell_type": "markdown",
   "metadata": {},
   "source": [
    "**This may take several hours**"
   ]
  },
  {
   "cell_type": "code",
   "execution_count": 16,
   "metadata": {
    "jupyter": {
     "outputs_hidden": true
    },
    "scrolled": true
   },
   "outputs": [
    {
     "name": "stdout",
     "output_type": "stream",
     "text": [
      "14:32:05: Loaded: 0 10% | Time remaining: 0.2 min\n",
      "14:32:05: Loaded: 1 20% | Time remaining: 0.2 min\n",
      "14:32:06: Loaded: 2 30% | Time remaining: 0.1 min\n",
      "14:32:06: Loaded: 3 40% | Time remaining: 0.1 min\n",
      "14:32:07: Loaded: 4 50% | Time remaining: 0.1 min\n",
      "14:32:07: Loaded: 5 60% | Time remaining: 0.1 min\n",
      "14:32:07: Loaded: 6 70% | Time remaining: 0.1 min\n",
      "14:32:08: Loaded: 7 80% | Time remaining: 0.0 min\n",
      "14:32:08: Loaded: 8 90% | Time remaining: 0.0 min\n",
      "14:32:09: Loaded: 9 100% | Time remaining: 0.0 min\n",
      "---FINISHED---\n"
     ]
    }
   ],
   "source": [
    "match_hist = get_records(api.GetMatchHist_full, accountId[0:10], verbose=1, sleeptime=0) "
   ]
  },
  {
   "cell_type": "code",
   "execution_count": 17,
   "metadata": {},
   "outputs": [
    {
     "data": {
      "text/html": [
       "<div>\n",
       "<style scoped>\n",
       "    .dataframe tbody tr th:only-of-type {\n",
       "        vertical-align: middle;\n",
       "    }\n",
       "\n",
       "    .dataframe tbody tr th {\n",
       "        vertical-align: top;\n",
       "    }\n",
       "\n",
       "    .dataframe thead th {\n",
       "        text-align: right;\n",
       "    }\n",
       "</style>\n",
       "<table border=\"1\" class=\"dataframe\">\n",
       "  <thead>\n",
       "    <tr style=\"text-align: right;\">\n",
       "      <th></th>\n",
       "      <th>index</th>\n",
       "      <th>platformId</th>\n",
       "      <th>gameId</th>\n",
       "      <th>champion</th>\n",
       "      <th>queue</th>\n",
       "      <th>season</th>\n",
       "      <th>timestamp</th>\n",
       "      <th>role</th>\n",
       "      <th>lane</th>\n",
       "      <th>accountId</th>\n",
       "    </tr>\n",
       "  </thead>\n",
       "  <tbody>\n",
       "    <tr>\n",
       "      <th>0</th>\n",
       "      <td>0</td>\n",
       "      <td>EUN1</td>\n",
       "      <td>2394936195</td>\n",
       "      <td>105</td>\n",
       "      <td>420</td>\n",
       "      <td>13</td>\n",
       "      <td>1583100333332</td>\n",
       "      <td>DUO</td>\n",
       "      <td>MID</td>\n",
       "      <td>sP1WpJtn8ddDSp6eDbVcYQXOVuqSKGt1bOf0aRGZJHU</td>\n",
       "    </tr>\n",
       "    <tr>\n",
       "      <th>1</th>\n",
       "      <td>1</td>\n",
       "      <td>EUN1</td>\n",
       "      <td>2394931561</td>\n",
       "      <td>1</td>\n",
       "      <td>700</td>\n",
       "      <td>13</td>\n",
       "      <td>1583098541514</td>\n",
       "      <td>SOLO</td>\n",
       "      <td>MID</td>\n",
       "      <td>sP1WpJtn8ddDSp6eDbVcYQXOVuqSKGt1bOf0aRGZJHU</td>\n",
       "    </tr>\n",
       "    <tr>\n",
       "      <th>2</th>\n",
       "      <td>2</td>\n",
       "      <td>EUN1</td>\n",
       "      <td>2394894769</td>\n",
       "      <td>101</td>\n",
       "      <td>700</td>\n",
       "      <td>13</td>\n",
       "      <td>1583096058349</td>\n",
       "      <td>SOLO</td>\n",
       "      <td>MID</td>\n",
       "      <td>sP1WpJtn8ddDSp6eDbVcYQXOVuqSKGt1bOf0aRGZJHU</td>\n",
       "    </tr>\n",
       "    <tr>\n",
       "      <th>3</th>\n",
       "      <td>3</td>\n",
       "      <td>EUN1</td>\n",
       "      <td>2394882761</td>\n",
       "      <td>1</td>\n",
       "      <td>700</td>\n",
       "      <td>13</td>\n",
       "      <td>1583092551254</td>\n",
       "      <td>SOLO</td>\n",
       "      <td>MID</td>\n",
       "      <td>sP1WpJtn8ddDSp6eDbVcYQXOVuqSKGt1bOf0aRGZJHU</td>\n",
       "    </tr>\n",
       "    <tr>\n",
       "      <th>4</th>\n",
       "      <td>4</td>\n",
       "      <td>EUN1</td>\n",
       "      <td>2394776541</td>\n",
       "      <td>69</td>\n",
       "      <td>420</td>\n",
       "      <td>13</td>\n",
       "      <td>1583087862983</td>\n",
       "      <td>SOLO</td>\n",
       "      <td>MID</td>\n",
       "      <td>sP1WpJtn8ddDSp6eDbVcYQXOVuqSKGt1bOf0aRGZJHU</td>\n",
       "    </tr>\n",
       "  </tbody>\n",
       "</table>\n",
       "</div>"
      ],
      "text/plain": [
       "   index platformId      gameId  champion  queue  season      timestamp  role  \\\n",
       "0      0       EUN1  2394936195       105    420      13  1583100333332   DUO   \n",
       "1      1       EUN1  2394931561         1    700      13  1583098541514  SOLO   \n",
       "2      2       EUN1  2394894769       101    700      13  1583096058349  SOLO   \n",
       "3      3       EUN1  2394882761         1    700      13  1583092551254  SOLO   \n",
       "4      4       EUN1  2394776541        69    420      13  1583087862983  SOLO   \n",
       "\n",
       "  lane                                    accountId  \n",
       "0  MID  sP1WpJtn8ddDSp6eDbVcYQXOVuqSKGt1bOf0aRGZJHU  \n",
       "1  MID  sP1WpJtn8ddDSp6eDbVcYQXOVuqSKGt1bOf0aRGZJHU  \n",
       "2  MID  sP1WpJtn8ddDSp6eDbVcYQXOVuqSKGt1bOf0aRGZJHU  \n",
       "3  MID  sP1WpJtn8ddDSp6eDbVcYQXOVuqSKGt1bOf0aRGZJHU  \n",
       "4  MID  sP1WpJtn8ddDSp6eDbVcYQXOVuqSKGt1bOf0aRGZJHU  "
      ]
     },
     "execution_count": 17,
     "metadata": {},
     "output_type": "execute_result"
    }
   ],
   "source": [
    "match_list = pd.DataFrame()\n",
    "for key, value in match_hist.items():\n",
    "    id_hist = pd.DataFrame(value)\n",
    "    id_hist['accountId'] = key\n",
    "    match_list = match_list.append(id_hist)\n",
    "match_list.reset_index(inplace = True)\n",
    "match_list.head()"
   ]
  },
  {
   "cell_type": "code",
   "execution_count": 18,
   "metadata": {},
   "outputs": [],
   "source": [
    "#Saving to csv\n",
    "match_list.to_csv(os.path.join(ROOT_DIR, DATA_DIR, 'match_history.csv'))"
   ]
  },
  {
   "cell_type": "code",
   "execution_count": 19,
   "metadata": {},
   "outputs": [
    {
     "data": {
      "text/plain": [
       "(1000, 10)"
      ]
     },
     "execution_count": 19,
     "metadata": {},
     "output_type": "execute_result"
    }
   ],
   "source": [
    "match_list.shape"
   ]
  },
  {
   "cell_type": "markdown",
   "metadata": {},
   "source": [
    "--------------------\n",
    "## 4. Pulling game details for each matchID\n",
    "This part creates a new folder in data dir then saves each player's match detail into a separate json file "
   ]
  },
  {
   "cell_type": "code",
   "execution_count": 20,
   "metadata": {},
   "outputs": [],
   "source": [
    "#Loading in saved csv file\n",
    "match_list = pd.read_csv(os.path.join(ROOT_DIR, DATA_DIR, 'match_history.csv'))"
   ]
  },
  {
   "cell_type": "code",
   "execution_count": 21,
   "metadata": {},
   "outputs": [
    {
     "data": {
      "text/html": [
       "<div>\n",
       "<style scoped>\n",
       "    .dataframe tbody tr th:only-of-type {\n",
       "        vertical-align: middle;\n",
       "    }\n",
       "\n",
       "    .dataframe tbody tr th {\n",
       "        vertical-align: top;\n",
       "    }\n",
       "\n",
       "    .dataframe thead th {\n",
       "        text-align: right;\n",
       "    }\n",
       "</style>\n",
       "<table border=\"1\" class=\"dataframe\">\n",
       "  <thead>\n",
       "    <tr style=\"text-align: right;\">\n",
       "      <th></th>\n",
       "      <th>gameId</th>\n",
       "      <th>accountId</th>\n",
       "    </tr>\n",
       "  </thead>\n",
       "  <tbody>\n",
       "    <tr>\n",
       "      <th>0</th>\n",
       "      <td>2394936195</td>\n",
       "      <td>sP1WpJtn8ddDSp6eDbVcYQXOVuqSKGt1bOf0aRGZJHU</td>\n",
       "    </tr>\n",
       "    <tr>\n",
       "      <th>1</th>\n",
       "      <td>2394931561</td>\n",
       "      <td>sP1WpJtn8ddDSp6eDbVcYQXOVuqSKGt1bOf0aRGZJHU</td>\n",
       "    </tr>\n",
       "  </tbody>\n",
       "</table>\n",
       "</div>"
      ],
      "text/plain": [
       "       gameId                                    accountId\n",
       "0  2394936195  sP1WpJtn8ddDSp6eDbVcYQXOVuqSKGt1bOf0aRGZJHU\n",
       "1  2394931561  sP1WpJtn8ddDSp6eDbVcYQXOVuqSKGt1bOf0aRGZJHU"
      ]
     },
     "execution_count": 21,
     "metadata": {},
     "output_type": "execute_result"
    }
   ],
   "source": [
    "gameids = match_list[['gameId', 'accountId']]\n",
    "gameids.head(2)"
   ]
  },
  {
   "cell_type": "code",
   "execution_count": 22,
   "metadata": {},
   "outputs": [],
   "source": [
    "path = os.path.join(ROOT_DIR, DATA_DIR, 'match_details_by_summoners')\n",
    "os.makedirs(path, exist_ok=True)"
   ]
  },
  {
   "cell_type": "code",
   "execution_count": 23,
   "metadata": {},
   "outputs": [],
   "source": [
    "def save_file(path, name, data):\n",
    "    filename = os.path.join(path, name + '.json')\n",
    "    jsonfile = json.dumps(data)\n",
    "    file = open(filename, 'w')\n",
    "    file.write(jsonfile)\n",
    "    file.close()"
   ]
  },
  {
   "cell_type": "code",
   "execution_count": 24,
   "metadata": {},
   "outputs": [],
   "source": [
    "# Removing items that were already downloaded (already in the downloaded directory)\n",
    "dir_content = [s.replace('.json','') for s in os.listdir(path)]\n",
    "\n",
    "full_accountid_list = list(gameids['accountId'].unique()[0:4])  # Now only pulls 5 players match details\n",
    "\n",
    "accountid_list = [s for s in full_accountid_list if s not in dir_content]"
   ]
  },
  {
   "cell_type": "code",
   "execution_count": 25,
   "metadata": {
    "scrolled": false
   },
   "outputs": [
    {
     "name": "stdout",
     "output_type": "stream",
     "text": [
      "14:34:31: Loaded: 0 1% | Time remaining: 2.0 min\n",
      "14:34:38: Loaded: 8 9% | Time remaining: 1.8 min\n",
      "14:34:44: Loaded: 16 17% | Time remaining: 1.7 min\n",
      "14:34:50: Loaded: 24 25% | Time remaining: 1.5 min\n",
      "14:34:56: Loaded: 32 33% | Time remaining: 1.3 min\n",
      "14:35:03: Loaded: 40 41% | Time remaining: 1.2 min\n",
      "14:35:09: Loaded: 48 49% | Time remaining: 1.0 min\n",
      "14:35:15: Loaded: 56 56% | Time remaining: 0.9 min\n",
      "14:35:22: Loaded: 64 65% | Time remaining: 0.7 min\n",
      "14:35:28: Loaded: 72 73% | Time remaining: 0.5 min\n",
      "14:35:35: Loaded: 80 81% | Time remaining: 0.4 min\n",
      "14:35:41: Loaded: 88 89% | Time remaining: 0.2 min\n",
      "14:35:48: Loaded: 96 97% | Time remaining: 0.1 min\n",
      "---FINISHED---\n",
      "25% of files saved!\n",
      "14:36:34: Loaded: 0 1% | Time remaining: 2.0 min\n",
      "14:36:41: Loaded: 8 9% | Time remaining: 1.8 min\n",
      "14:36:47: Loaded: 16 17% | Time remaining: 1.7 min\n",
      "14:36:53: Loaded: 24 25% | Time remaining: 1.5 min\n",
      "14:37:00: Loaded: 32 33% | Time remaining: 1.3 min\n",
      "14:37:06: Loaded: 40 41% | Time remaining: 1.2 min\n",
      "14:37:12: Loaded: 48 49% | Time remaining: 1.0 min\n",
      "14:37:19: Loaded: 56 56% | Time remaining: 0.9 min\n",
      "14:37:25: Loaded: 64 65% | Time remaining: 0.7 min\n",
      "14:37:32: Loaded: 72 73% | Time remaining: 0.5 min\n",
      "14:37:38: Loaded: 80 81% | Time remaining: 0.4 min\n",
      "14:37:45: Loaded: 88 89% | Time remaining: 0.2 min\n",
      "14:37:51: Loaded: 96 97% | Time remaining: 0.1 min\n",
      "---FINISHED---\n",
      "50% of files saved!\n",
      "14:38:37: Loaded: 0 1% | Time remaining: 2.0 min\n",
      "14:38:44: Loaded: 8 9% | Time remaining: 1.8 min\n",
      "14:38:50: Loaded: 16 17% | Time remaining: 1.7 min\n",
      "14:38:56: Loaded: 24 25% | Time remaining: 1.5 min\n",
      "14:39:02: Loaded: 32 33% | Time remaining: 1.3 min\n",
      "14:39:09: Loaded: 40 41% | Time remaining: 1.2 min\n",
      "14:39:15: Loaded: 48 49% | Time remaining: 1.0 min\n",
      "14:39:21: Loaded: 56 56% | Time remaining: 0.9 min\n",
      "14:39:28: Loaded: 64 65% | Time remaining: 0.7 min\n",
      "14:39:34: Loaded: 72 73% | Time remaining: 0.5 min\n",
      "14:39:40: Loaded: 80 81% | Time remaining: 0.4 min\n",
      "14:39:47: Loaded: 88 89% | Time remaining: 0.2 min\n",
      "14:39:53: Loaded: 96 97% | Time remaining: 0.1 min\n",
      "---FINISHED---\n",
      "75% of files saved!\n",
      "14:40:40: Loaded: 0 1% | Time remaining: 2.0 min\n",
      "14:40:47: Loaded: 8 9% | Time remaining: 1.8 min\n",
      "14:40:53: Loaded: 16 17% | Time remaining: 1.7 min\n",
      "14:41:00: Loaded: 24 25% | Time remaining: 1.5 min\n",
      "14:41:07: Loaded: 32 33% | Time remaining: 1.3 min\n",
      "14:41:13: Loaded: 40 41% | Time remaining: 1.2 min\n",
      "14:41:19: Loaded: 48 49% | Time remaining: 1.0 min\n",
      "14:41:25: Loaded: 56 56% | Time remaining: 0.9 min\n",
      "14:41:32: Loaded: 64 65% | Time remaining: 0.7 min\n",
      "14:41:38: Loaded: 72 73% | Time remaining: 0.5 min\n",
      "14:41:44: Loaded: 80 81% | Time remaining: 0.4 min\n",
      "14:41:51: Loaded: 88 89% | Time remaining: 0.2 min\n",
      "14:41:57: Loaded: 96 97% | Time remaining: 0.1 min\n",
      "---FINISHED---\n",
      "100% of files saved!\n"
     ]
    }
   ],
   "source": [
    "for id in accountid_list:\n",
    "    games = list(gameids[ gameids.accountId == id]['gameId'])\n",
    "    \n",
    "    # Get all game details in the games list\n",
    "    game_detail_dict = get_records(api.GetMatchDetails, games, verbose=8 , sleeptime=0.3)\n",
    "     \n",
    "    save_file(path, id, game_detail_dict)\n",
    "    print('{}% of files saved!'.format( int((accountid_list.index(id)+1)/len(accountid_list)*100)) )"
   ]
  },
  {
   "cell_type": "markdown",
   "metadata": {},
   "source": [
    "----------------------\n",
    "# Merging all match detail files to masterdata"
   ]
  },
  {
   "cell_type": "code",
   "execution_count": 26,
   "metadata": {},
   "outputs": [],
   "source": [
    "from ProgressBar import update_progress"
   ]
  },
  {
   "cell_type": "code",
   "execution_count": 27,
   "metadata": {},
   "outputs": [],
   "source": [
    "path = os.path.join(ROOT_DIR, DATA_DIR, 'match_details_by_summoners')"
   ]
  },
  {
   "cell_type": "code",
   "execution_count": 28,
   "metadata": {},
   "outputs": [],
   "source": [
    "def game_participants_to_df(data, gameid):\n",
    "    '''Merging player details and match details in one file'''\n",
    "    players_in_game = pd.DataFrame()\n",
    "    n_of_participants = len(data[gameid]['participants'])\n",
    "    for i in range(n_of_participants): # going through the participants and adding other info \n",
    "        # 1. Creating participant row with partIdentities\n",
    "        part_id = data[gameid]['participantIdentities'][i]['participantId']\n",
    "        participant_row = pd.DataFrame(data[gameid]['participantIdentities'][i]['player'], index=[part_id])\n",
    "\n",
    "        # 2. Adding games stasts to the row\n",
    "        stats = pd.DataFrame(data[gameid]['participants'][i]['stats'], index = [part_id] ).rename(columns= {'inhibitorKills': 'inhibitorKills_participant'})\n",
    "        lane = pd.DataFrame(data[gameid]['participants'][i]['timeline'], index = [part_id] )[['role', 'lane']]\n",
    "        stats = stats.join(lane)\n",
    "        newkeys = [key for key in data[gameid]['participants'][i].keys() if key not in ['stats', 'timeline', 'participantId'] ]\n",
    "        for key in newkeys:\n",
    "            stats[key] = data[gameid]['participants'][i][key]\n",
    "        participant_row = participant_row.join(stats)\n",
    "\n",
    "        # 3. Adding teams stats\n",
    "        teamstat = pd.DataFrame(data[gameid]['teams']).drop('win', axis = 1).set_index('teamId')\n",
    "        participant_row = participant_row.merge(teamstat, on = 'teamId')\n",
    "\n",
    "        # 4. Add row to the total list\n",
    "        players_in_game = players_in_game.append( participant_row )\n",
    "\n",
    "        # 5. Adding game desc details to the game dataframe\n",
    "        newkeys = [key for key in data[gameid].keys() if key not in ['participants', 'participantIdentities', 'teams'] ]\n",
    "        for key in newkeys:\n",
    "            players_in_game[key] = data[gameid][key]\n",
    "    players_in_game.reset_index(drop = True, inplace = True)\n",
    "    return players_in_game"
   ]
  },
  {
   "cell_type": "code",
   "execution_count": 29,
   "metadata": {},
   "outputs": [
    {
     "name": "stdout",
     "output_type": "stream",
     "text": [
      "Progress: [####################] 100.0%\n"
     ]
    }
   ],
   "source": [
    "# Loops through the match_details_by_summoners dir files and \n",
    "\n",
    "FolderItems = os.listdir(path)\n",
    "games = pd.DataFrame()\n",
    "for file in FolderItems:\n",
    "    json_file = open(os.path.join(path, file))\n",
    "    data = json.load(json_file)\n",
    "    for gameid in data:\n",
    "        games = games.append(game_participants_to_df(data, gameid))\n",
    "        games.reset_index(drop = True)\n",
    "    update_progress((FolderItems.index(file)+1)/len(FolderItems))"
   ]
  },
  {
   "cell_type": "code",
   "execution_count": 37,
   "metadata": {},
   "outputs": [],
   "source": [
    "games.to_csv(os.path.join(ROOT_DIR, DATA_DIR, 'match_detail_master.csv') )"
   ]
  },
  {
   "cell_type": "code",
   "execution_count": 35,
   "metadata": {},
   "outputs": [
    {
     "data": {
      "text/plain": [
       "(4000, 141)"
      ]
     },
     "execution_count": 35,
     "metadata": {},
     "output_type": "execute_result"
    }
   ],
   "source": [
    "games.shape"
   ]
  },
  {
   "cell_type": "code",
   "execution_count": null,
   "metadata": {},
   "outputs": [],
   "source": []
  }
 ],
 "metadata": {
  "kernelspec": {
   "display_name": "Python 3",
   "language": "python",
   "name": "python3"
  },
  "language_info": {
   "codemirror_mode": {
    "name": "ipython",
    "version": 3
   },
   "file_extension": ".py",
   "mimetype": "text/x-python",
   "name": "python",
   "nbconvert_exporter": "python",
   "pygments_lexer": "ipython3",
   "version": "3.7.1"
  }
 },
 "nbformat": 4,
 "nbformat_minor": 4
}
